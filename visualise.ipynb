{
 "cells": [
  {
   "cell_type": "code",
   "execution_count": null,
   "metadata": {
    "collapsed": false
   },
   "outputs": [],
   "source": [
    "local torch = require \"torch\"\n",
    "local itorch = require \"itorch\"\n",
    "require \"cutorch\"\n",
    "require \"nn\"\n",
    "require \"cunn\"\n",
    "local cudnn = require \"cudnn\"\n",
    "local data = require \"data\"\n",
    "local helpers = require \"helpers\"\n",
    "\n",
    "-- Load configuration\n",
    "local model = 'out/2016-07-30-lr4/model_15000.t7'\n",
    "local args = {model = model, conf = 'conf.json'}\n",
    "local opts = helpers.opts(args)\n",
    "\n",
    "-- Initialize and normalize training and validation data\n",
    "local trainData = data.new(opts.train,\n",
    "    opts.height, opts.width, opts.validationSubjects)\n",
    "trainData:normalize(opts.mean, opts.std)\n",
    "local validateData = data.new(opts.validate,\n",
    "    opts.height, opts.width, opts.validationSubjects, true)\n",
    "validateData:normalize(opts.mean, opts.std)\n",
    "\n",
    "-- Load network from file\n",
    "local net = torch.load(args.model)\n",
    "local modelName = string.match(args.model, '(.*)%.t7$')\n",
    "net:evaluate()\n",
    "\n",
    "local function sample(dataset)\n",
    "    -- Get a minibatch\n",
    "    local batch, names = dataset:batch(opts.batchSize)\n",
    "    local batchInputs = batch.inputs:cuda()\n",
    "    local batchLabels = batch.labels:cuda()\n",
    "\n",
    "    -- Forward pass and score\n",
    "    local outputs = net:forward(batchInputs)\n",
    "    local diceValue = helpers.dice(outputs, batchLabels)\n",
    "    local _, predLabels = outputs:max(2):squeeze():double() - 1\n",
    "\n",
    "    -- Output\n",
    "    for j, name in pairs(names) do\n",
    "        print(name, diceValue[j])\n",
    "        itorch.image({batchInputs[j], predLabels[j], batchLabels - 1})\n",
    "    end\n",
    "    print()\n",
    "    print(\"Mean Dice score for batch:\", diceValue:mean())\n",
    "end"
   ]
  },
  {
   "cell_type": "code",
   "execution_count": null,
   "metadata": {
    "collapsed": true
   },
   "outputs": [],
   "source": [
    "sample(trainData)"
   ]
  },
  {
   "cell_type": "code",
   "execution_count": null,
   "metadata": {
    "collapsed": true
   },
   "outputs": [],
   "source": [
    "sample(validateData)"
   ]
  }
 ],
 "metadata": {
  "kernelspec": {
   "display_name": "iTorch",
   "language": "lua",
   "name": "itorch"
  },
  "language_info": {
   "name": "lua",
   "version": "5.1"
  }
 },
 "nbformat": 4,
 "nbformat_minor": 0
}
