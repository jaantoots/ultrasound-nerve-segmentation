{
 "cells": [
  {
   "cell_type": "code",
   "execution_count": 1,
   "metadata": {
    "collapsed": false
   },
   "outputs": [
    {
     "data": {
      "text/plain": [
       "Train\tValid.\tHeight\tWidth\t\n",
       "5635\t0\t200\t280\t\n"
      ]
     },
     "execution_count": 1,
     "metadata": {},
     "output_type": "execute_result"
    }
   ],
   "source": [
    "require \"torch\"\n",
    "require \"cutorch\"\n",
    "require \"nn\"\n",
    "require \"cunn\"\n",
    "require \"cudnn\"\n",
    "gm = require \"graphicsmagick\"\n",
    "data = require \"data\"\n",
    "helpers = require \"helpers\"\n",
    "\n",
    "args = {conf = 'conf.json'}\n",
    "opts = helpers.opts(args)\n",
    "\n",
    "trainData = data.new(opts.trainDir, opts.height, opts.width)\n",
    "trainData:normalize(opts.mean, opts.std)"
   ]
  },
  {
   "cell_type": "code",
   "execution_count": 3,
   "metadata": {
    "collapsed": false
   },
   "outputs": [],
   "source": [
    "model = 'out/2016-08-03-spatial/model_12000.t7'\n",
    "net = torch.load(model)\n",
    "modelName = string.match(model, '(.*)%.t7$')"
   ]
  },
  {
   "cell_type": "code",
   "execution_count": 10,
   "metadata": {
    "collapsed": false
   },
   "outputs": [
    {
     "data": {
      "image/png": "[encoded data removed]",
      "text/plain": [
       "Console does not support images"
      ]
     },
     "metadata": {
      "image/png": {
       "height": 404,
       "width": 1692
      }
     },
     "output_type": "display_data"
    }
   ],
   "source": [
    "batch, names = trainData:batch(opts.batchSize, true, true)\n",
    "batchInputs = batch.inputs:cuda()\n",
    "outputs = net:forward(batchInputs)\n",
    "_, predictions = outputs:max(outputs:dim() - 2)\n",
    "predictions = predictions:squeeze():int() - 1\n",
    "itorch.image(predictions)"
   ]
  },
  {
   "cell_type": "code",
   "execution_count": 20,
   "metadata": {
    "collapsed": false
   },
   "outputs": [
    {
     "data": {
      "image/png": "[encoded data removed]",
      "text/plain": [
       "Console does not support images"
      ]
     },
     "metadata": {
      "image/png": {
       "height": 420,
       "width": 580
      }
     },
     "output_type": "display_data"
    },
    {
     "data": {
      "text/plain": [
       "41,28,142946 2 143365 4 143767 23 144187 24 144603 31 145022 33 145437 39 145856 40 146275 41 146694 43 147111 47 147530 48 147946 51 148366 51 148782 56 149202 56 149618 59 149679 1 150038 58 150098 3 150458 63 150878 63 151294 67 151713 68 152132 69 152549 72 152968 72 153387 70 153806 71 154223 75 154642 76 155061 76 155480 76 155897 79 156317 79 156737 79 157156 80 157575 81 157994 82 158413 82 158832 82 159252 81 159672 80 160089 79 160508 80 160928 80 161348 80 161767 80 162186 80 162605 80 163024 80 163444 77 163864 76 164284 76 164704 76 165124 75 165544 74 165964 73 166384 71 166804 71 167224 67 167644 67 168064 63 168484 63 168904 59 169324 58 169744 57 170164 56 170584 55 171004 54 171424 51 171844 50 172264 47 172684 46 173104 43 173524 42 173944 38 174364 38 174784 37 175204 36 175631 23 176052 21 176473 19 176894 11 177316 8\n"
      ]
     },
     "execution_count": 20,
     "metadata": {},
     "output_type": "execute_result"
    }
   ],
   "source": [
    "local i = 4\n",
    "local pred = predictions[i]\n",
    "local name = names[i]\n",
    "local predStretch = torch.Tensor(1, pred:size(1), pred:size(2))\n",
    "predStretch[1] = pred\n",
    "-- Resize image to original size\n",
    "if not args.no_resize then\n",
    "    local img = gm.Image(predStretch, 'I', 'DHW'):\n",
    "        size(trainData.owidth, trainData.oheight)\n",
    "    pred = img:toTensor('double', 'I', 'HW'):squeeze():round():int()\n",
    "end\n",
    "-- Different name style for file output for test data\n",
    "if string.match(name, '%d+_%d+') then\n",
    "    local subject, image = string.match(name, '(%d+)_(%d+)')\n",
    "    name = subject .. ',' .. image\n",
    "end\n",
    "itorch.image(pred)\n",
    "-- Output run length encoded data\n",
    "local output = helpers.encode(pred)\n",
    "io.write(name, ',', string.match(output, '^(.-)%s?$'), '\\n')"
   ]
  }
 ],
 "metadata": {
  "kernelspec": {
   "display_name": "iTorch",
   "language": "lua",
   "name": "itorch"
  },
  "language_info": {
   "name": "lua",
   "version": "5.1"
  }
 },
 "nbformat": 4,
 "nbformat_minor": 0
}
